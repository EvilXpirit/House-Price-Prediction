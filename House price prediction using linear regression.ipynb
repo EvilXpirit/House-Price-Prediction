{
 "cells": [
  {
   "cell_type": "code",
   "execution_count": 197,
   "id": "7ea5a56c-10c0-4375-8f5b-eb938d6148ec",
   "metadata": {},
   "outputs": [],
   "source": [
    "import warnings\n",
    "warnings.filterwarnings('ignore')\n",
    "import pandas as pd\n",
    "import matplotlib.pyplot as plt\n",
    "import seaborn as sns\n",
    "import numpy as np\n",
    "from sklearn.model_selection import train_test_split\n",
    "from sklearn.linear_model import LinearRegression\n",
    "from sklearn.metrics import mean_squared_error, r2_score"
   ]
  },
  {
   "cell_type": "code",
   "execution_count": 198,
   "id": "4d7b85a7-a508-4de0-beae-4c7b20f1a73b",
   "metadata": {},
   "outputs": [],
   "source": [
    "df = pd.read_csv('data.csv')"
   ]
  },
  {
   "cell_type": "code",
   "execution_count": null,
   "id": "3ea096d6-b03c-4583-b402-efeaf585fbbd",
   "metadata": {},
   "outputs": [],
   "source": [
    "print(df.head())"
   ]
  },
  {
   "cell_type": "code",
   "execution_count": null,
   "id": "872d2369-eae7-40c5-b212-0b0a25562da8",
   "metadata": {
    "scrolled": true
   },
   "outputs": [],
   "source": [
    "print(df.describe())"
   ]
  },
  {
   "cell_type": "code",
   "execution_count": null,
   "id": "77209406-9c5e-466d-9dfc-72a840509dfd",
   "metadata": {},
   "outputs": [],
   "source": [
    "df.columns"
   ]
  },
  {
   "cell_type": "code",
   "execution_count": null,
   "id": "86fb5044-09b7-459c-b666-16feca4b852c",
   "metadata": {
    "scrolled": true
   },
   "outputs": [],
   "source": [
    "print(df.isnull().sum())"
   ]
  },
  {
   "cell_type": "code",
   "execution_count": null,
   "id": "7bf96df8-4c5f-4cf4-ad8a-0e0e5c99776e",
   "metadata": {},
   "outputs": [],
   "source": [
    "non_numeric_columns = df.select_dtypes(exclude=[np.number]).columns\n",
    "print(\"Non-numeric columns:\", non_numeric_columns)\n",
    "df = df.drop(columns=non_numeric_columns)"
   ]
  },
  {
   "cell_type": "code",
   "execution_count": null,
   "id": "7d3a855e-beb2-4ae7-8d09-61e84d243bdc",
   "metadata": {
    "scrolled": true
   },
   "outputs": [],
   "source": [
    "sns.pairplot(df)"
   ]
  },
  {
   "cell_type": "code",
   "execution_count": null,
   "id": "bb80453e-80f4-4898-92fa-9ed674446c9e",
   "metadata": {},
   "outputs": [],
   "source": [
    "correlation_matrix = df.corr()\n",
    "sns.heatmap(correlation_matrix, annot=True, cmap='coolwarm')\n",
    "plt.title(\"Correlation Matrix\")\n",
    "plt.show()"
   ]
  },
  {
   "cell_type": "code",
   "execution_count": 144,
   "id": "282fc620-238f-4a3f-a219-46381d107ee1",
   "metadata": {},
   "outputs": [],
   "source": [
    "X = df[['bedrooms', 'bathrooms', 'sqft_living', 'sqft_lot', 'floors', 'waterfront', 'view', 'condition']]\n",
    "y = df['price']"
   ]
  },
  {
   "cell_type": "code",
   "execution_count": 178,
   "id": "63fbd6da-6a9b-4585-be89-12e709eb1546",
   "metadata": {},
   "outputs": [],
   "source": [
    "X_train, X_test, y_train, y_test = train_test_split(X, y, test_size = 0.2, random_state = 42)"
   ]
  },
  {
   "cell_type": "code",
   "execution_count": null,
   "id": "d07124dd-00a0-471c-9616-362de87e223c",
   "metadata": {},
   "outputs": [],
   "source": [
    "X_train"
   ]
  },
  {
   "cell_type": "code",
   "execution_count": 180,
   "id": "af30f209-d9d1-4aac-af54-e6f54876267d",
   "metadata": {},
   "outputs": [],
   "source": [
    "model = LinearRegression()"
   ]
  },
  {
   "cell_type": "code",
   "execution_count": null,
   "id": "7feff2c0-135d-429e-97b8-7ce81e3277c9",
   "metadata": {},
   "outputs": [],
   "source": [
    "model.fit(X_train, y_train)"
   ]
  },
  {
   "cell_type": "code",
   "execution_count": 182,
   "id": "0d9969d8-0be3-4d99-98db-87aab09a3da3",
   "metadata": {},
   "outputs": [],
   "source": [
    "coeff_df = pd.DataFrame(model.coef_,X.columns,columns=['coefficient'])"
   ]
  },
  {
   "cell_type": "code",
   "execution_count": null,
   "id": "e717ba61-fd24-4d2f-a019-b845e4b74d6f",
   "metadata": {
    "scrolled": true
   },
   "outputs": [],
   "source": [
    "coeff_df"
   ]
  },
  {
   "cell_type": "code",
   "execution_count": 191,
   "id": "7cd4016e-077f-44d8-a72b-df0682b88fea",
   "metadata": {},
   "outputs": [],
   "source": [
    "#Model evaluation\n",
    "y_pred = model.predict(X_test)"
   ]
  },
  {
   "cell_type": "code",
   "execution_count": null,
   "id": "2431a649-5c76-45e5-b0bf-12c87947963b",
   "metadata": {},
   "outputs": [],
   "source": [
    "plt.scatter(y_test, y_pred)"
   ]
  },
  {
   "cell_type": "code",
   "execution_count": null,
   "id": "c27faa95-9127-4530-a4fe-236c7b245680",
   "metadata": {},
   "outputs": [],
   "source": [
    "sns.distplot((y_test-y_pred), bins=50) "
   ]
  },
  {
   "cell_type": "code",
   "execution_count": null,
   "id": "84dc092f-cb3f-41fa-8df9-40fc2ca5f3fa",
   "metadata": {},
   "outputs": [],
   "source": [
    "mse = mean_squared_error(y_test, y_pred)\n",
    "r2 = r2_score(y_test, y_pred)\n",
    "\n",
    "print(\"Mean Squared Error:\", mse)\n",
    "print(\"R-squared:\", r2)"
   ]
  },
  {
   "cell_type": "code",
   "execution_count": null,
   "id": "d997d8b3-2504-43ba-a1af-06c181302f0c",
   "metadata": {},
   "outputs": [],
   "source": [
    "#Predictions and Visualization:"
   ]
  },
  {
   "cell_type": "code",
   "execution_count": null,
   "id": "e4dd34dd-fffa-440f-bbca-f7213bcbb217",
   "metadata": {},
   "outputs": [],
   "source": [
    "plt.scatter(y_test, y_pred)\n",
    "plt.xlabel(\"Actual Prices\")\n",
    "plt.ylabel(\"Predicted Prices\")\n",
    "plt.title(\"Actual Prices vs. Predicted Prices\")\n",
    "plt.show()\n",
    "\n",
    "residuals = y_test - y_pred\n",
    "plt.scatter(y_test, residuals)\n",
    "plt.axhline(y=0, color='red', linestyle='--')\n",
    "plt.xlabel(\"Actual Prices\")\n",
    "plt.ylabel(\"Residuals\")\n",
    "plt.title(\"Residual Plot\")\n",
    "plt.show()\n",
    "\n",
    "new_data = [[3, 2, 1500, 4000, 1, 0]]\n",
    "predicted_price = model.predict(new_data)\n",
    "\n",
    "print(\"Predicted Price:\", predicted_price[0])"
   ]
  },
  {
   "cell_type": "code",
   "execution_count": null,
   "id": "6d6625b4-57fb-44da-b77c-bd5d90c6a68a",
   "metadata": {},
   "outputs": [],
   "source": []
  }
 ],
 "metadata": {
  "kernelspec": {
   "display_name": "Python 3 (ipykernel)",
   "language": "python",
   "name": "python3"
  },
  "language_info": {
   "codemirror_mode": {
    "name": "ipython",
    "version": 3
   },
   "file_extension": ".py",
   "mimetype": "text/x-python",
   "name": "python",
   "nbconvert_exporter": "python",
   "pygments_lexer": "ipython3",
   "version": "3.11.5"
  }
 },
 "nbformat": 4,
 "nbformat_minor": 5
}
